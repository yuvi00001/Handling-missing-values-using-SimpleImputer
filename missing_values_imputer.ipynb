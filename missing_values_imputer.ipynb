{
  "nbformat": 4,
  "nbformat_minor": 0,
  "metadata": {
    "colab": {
      "name": "missing-values_imputer.ipynb",
      "provenance": [],
      "mount_file_id": "11UDwGAlyvTLTcCQ9semLqkbVdWFjO42U",
      "authorship_tag": "ABX9TyN2F47ZqC4ezPa9Ct6BmKv/",
      "include_colab_link": true
    },
    "kernelspec": {
      "name": "python3",
      "display_name": "Python 3"
    },
    "language_info": {
      "name": "python"
    }
  },
  "cells": [
    {
      "cell_type": "markdown",
      "metadata": {
        "id": "view-in-github",
        "colab_type": "text"
      },
      "source": [
        "<a href=\"https://colab.research.google.com/github/yuvi00001/Handling-missing-values-using-SimpleImputer/blob/main/missing_values_imputer.ipynb\" target=\"_parent\"><img src=\"https://colab.research.google.com/assets/colab-badge.svg\" alt=\"Open In Colab\"/></a>"
      ]
    },
    {
      "cell_type": "markdown",
      "metadata": {
        "id": "vPigbnJ3_fux"
      },
      "source": [
        "LOGISTIC REGRESSION - HEART DISEASE PREDICTION\n",
        "\n",
        "Data Source References\n",
        "https://www.kaggle.com/amanajmera1/framingham-heart-study-dataset/data"
      ]
    },
    {
      "cell_type": "code",
      "metadata": {
        "id": "1CSG8g2-6RHJ",
        "colab": {
          "base_uri": "https://localhost:8080/"
        },
        "outputId": "047121a1-58a0-4372-e9b5-c344b273c2d2"
      },
      "source": [
        "import pandas as pd\n",
        "import numpy as np\n",
        "import seaborn as sns\n",
        "import matplotlib.pyplot as plt\n",
        "\n",
        "\n",
        "data = pd.read_csv('/content/drive/MyDrive/framingham.csv')\n",
        "columns = data.columns\n",
        "j = 0\n",
        "\n",
        "for i in range(len(columns)):\n",
        "  missing_val = data[data.columns[i]].isnull().sum()\n",
        "  percentage = missing_val/len(data)*100\n",
        "  if missing_val==0:\n",
        "    pass\n",
        "  else:\n",
        "    j+=1\n",
        "    print('{}. {} has {} missing values, percentage being {}'.format(j,data.columns[i],missing_val,percentage))\n"
      ],
      "execution_count": null,
      "outputs": [
        {
          "output_type": "stream",
          "text": [
            "1. education has 105 missing values, percentage being 2.4775837659273243\n",
            "2. cigsPerDay has 29 missing values, percentage being 0.684285040113261\n",
            "3. BPMeds has 53 missing values, percentage being 1.2505899008966492\n",
            "4. totChol has 50 missing values, percentage being 1.1798017932987257\n",
            "5. BMI has 19 missing values, percentage being 0.4483246814535158\n",
            "6. heartRate has 1 missing values, percentage being 0.023596035865974516\n",
            "7. glucose has 388 missing values, percentage being 9.155261915998112\n"
          ],
          "name": "stdout"
        }
      ]
    },
    {
      "cell_type": "markdown",
      "metadata": {
        "id": "l9j5_EmU_dJF"
      },
      "source": [
        "Visualizing the missing values using **heatmap**."
      ]
    },
    {
      "cell_type": "code",
      "metadata": {
        "colab": {
          "base_uri": "https://localhost:8080/",
          "height": 461
        },
        "id": "4yn0F5a4OAYy",
        "outputId": "05197115-a672-4064-d7e2-c74eb6a8f4ec"
      },
      "source": [
        "plt.figure(figsize=(10,6))\n",
        "sns.heatmap(data.isna(),cbar=False,cmap='viridis',yticklabels=False)"
      ],
      "execution_count": null,
      "outputs": [
        {
          "output_type": "execute_result",
          "data": {
            "text/plain": [
              "<matplotlib.axes._subplots.AxesSubplot at 0x7fb15f609fd0>"
            ]
          },
          "metadata": {
            "tags": []
          },
          "execution_count": 18
        },
        {
          "output_type": "display_data",
          "data": {
            "image/png": "[encoded data removed]",
            "text/plain": [
              "<Figure size 720x432 with 1 Axes>"
            ]
          },
          "metadata": {
            "tags": [],
            "needs_background": "light"
          }
        }
      ]
    },
    {
      "cell_type": "markdown",
      "metadata": {
        "id": "XzTqLK1R6opi"
      },
      "source": [
        "Handling the **missing values** using **SimpleImputer**, replacing missing values by **mean**."
      ]
    },
    {
      "cell_type": "code",
      "metadata": {
        "colab": {
          "base_uri": "https://localhost:8080/",
          "height": 36
        },
        "id": "V-d0Hli9xD3z",
        "outputId": "1f87ad6b-89c7-40d2-b139-e0af7942a453"
      },
      "source": [
        "from sklearn.impute import SimpleImputer\n",
        "\n",
        "imputer = SimpleImputer(missing_values=np.nan,strategy='mean',verbose=0)\n",
        "X = data.values\n",
        "Y = X[:,-1]\n",
        "X = X[:,:-1]\n",
        "\n",
        "X_trans = imputer.fit_transform(X)\n",
        "\n",
        "'first X had {} NaN values after Imputing it has {} NaN values'.format(np.isnan(X).sum(),np.isnan(X_trans).sum())"
      ],
      "execution_count": null,
      "outputs": [
        {
          "output_type": "execute_result",
          "data": {
            "application/vnd.google.colaboratory.intrinsic+json": {
              "type": "string"
            },
            "text/plain": [
              "'first X had 645 NaN values after Imputing it has 0 NaN values'"
            ]
          },
          "metadata": {
            "tags": []
          },
          "execution_count": 19
        }
      ]
    },
    {
      "cell_type": "code",
      "metadata": {
        "id": "n96-EjcFylkq"
      },
      "source": [
        "from sklearn.model_selection import cross_val_score, RepeatedStratifiedKFold\n",
        "from sklearn.ensemble import RandomForestClassifier\n",
        "from sklearn.pipeline import Pipeline\n",
        "\n",
        "strategies = ['mean','median','most_frequent','constant']\n",
        "result = []\n",
        "\n",
        "model = RandomForestClassifier()\n",
        "cv = RepeatedStratifiedKFold(n_splits=10,n_repeats=3,random_state=1)\n",
        "\n",
        "for s in strategies:\n",
        "  pipe = Pipeline([('impute',SimpleImputer(strategy=s)),('model',model)])\n",
        "  score = cross_val_score(pipe,X,Y,scoring='accuracy',cv=cv,n_jobs=-1)\n",
        "  result.append(score)"
      ],
      "execution_count": null,
      "outputs": []
    },
    {
      "cell_type": "code",
      "metadata": {
        "colab": {
          "base_uri": "https://localhost:8080/"
        },
        "id": "hLLjQ4w0d_Cx",
        "outputId": "dd85c46f-620f-4771-f4e5-3dcf226426a4"
      },
      "source": [
        "#score for different strategies in SimpleImputer\n",
        "\n",
        "for i in range(len(result)):\n",
        "  print('For strategy {} ,mean score is {}, max being {} '.format(strategies[i],np.mean(result[i]),np.max(result[i])))"
      ],
      "execution_count": null,
      "outputs": [
        {
          "output_type": "stream",
          "text": [
            "For strategy mean ,mean score is 0.8483585351710603, max being 0.8628841607565012 \n",
            "For strategy median ,mean score is 0.8481236153857591, max being 0.8628841607565012 \n",
            "For strategy most_frequent ,mean score is 0.8491459996728964, max being 0.8628841607565012 \n",
            "For strategy constant ,mean score is 0.8492242443165768, max being 0.8605200945626478 \n"
          ],
          "name": "stdout"
        }
      ]
    },
    {
      "cell_type": "code",
      "metadata": {
        "id": "dPBtB59DiuYe"
      },
      "source": [
        ""
      ],
      "execution_count": null,
      "outputs": []
    }
  ]
}